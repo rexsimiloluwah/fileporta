{
 "cells": [
  {
   "cell_type": "code",
   "execution_count": 1,
   "metadata": {},
   "outputs": [],
   "source": [
    "import fnmatch \n",
    "import os \n",
    "import shutil "
   ]
  },
  {
   "cell_type": "code",
   "execution_count": 7,
   "metadata": {},
   "outputs": [],
   "source": [
    "ignore_patterns = ['.next', '.git', 'env', '.next/*', '.git/*', 'node_modules', 'env/*', 'node_modules/*']\n",
    "source_dir = 'C:/Users/user/Desktop/DSN/Software'\n",
    "\n",
    "def should_ignore(path: str) -> bool:\n",
    "    \"\"\"Check if a path should be ignored based on ignore patterns.\"\"\"\n",
    "    rel_path = os.path.relpath(path, source_dir)\n",
    "    rel_path = rel_path.replace(os.sep, '/')\n",
    "    \n",
    "    path_parts = rel_path.split('/')\n",
    "    print(path_parts)\n",
    "    current_path = \"\"\n",
    "        \n",
    "    for part in path_parts:\n",
    "        if current_path:\n",
    "            current_path += '/'\n",
    "        current_path += part\n",
    "            \n",
    "        for pattern in ignore_patterns:\n",
    "            if fnmatch.fnmatch(part, pattern):\n",
    "                return True\n",
    "            if fnmatch.fnmatch(current_path, pattern):\n",
    "                return True\n",
    "            if fnmatch.fnmatch(current_path + '/*', pattern):\n",
    "                return True\n",
    "            if os.path.isdir(os.path.join(source_dir, current_path)):\n",
    "                if fnmatch.fnmatch(current_path + '/', pattern):\n",
    "                    return True\n",
    "    \n",
    "    return False"
   ]
  },
  {
   "cell_type": "code",
   "execution_count": 11,
   "metadata": {},
   "outputs": [
    {
     "name": "stdout",
     "output_type": "stream",
     "text": [
      "['uLearn', 'node_modules', 'google-auth-library']\n"
     ]
    },
    {
     "data": {
      "text/plain": [
       "False"
      ]
     },
     "execution_count": 11,
     "metadata": {},
     "output_type": "execute_result"
    }
   ],
   "source": [
    "should_ignore(r\"C:/Users/user/Desktop/DSN/Software\\uLearn\\node_modules\")"
   ]
  },
  {
   "cell_type": "code",
   "execution_count": 14,
   "metadata": {},
   "outputs": [
    {
     "data": {
      "text/plain": [
       "True"
      ]
     },
     "execution_count": 14,
     "metadata": {},
     "output_type": "execute_result"
    }
   ],
   "source": [
    "fnmatch.fnmatch(\"node_modules\", \"node_modules/*\")"
   ]
  },
  {
   "cell_type": "code",
   "execution_count": null,
   "metadata": {},
   "outputs": [],
   "source": []
  }
 ],
 "metadata": {
  "kernelspec": {
   "display_name": "Python 3",
   "language": "python",
   "name": "python3"
  },
  "language_info": {
   "codemirror_mode": {
    "name": "ipython",
    "version": 3
   },
   "file_extension": ".py",
   "mimetype": "text/x-python",
   "name": "python",
   "nbconvert_exporter": "python",
   "pygments_lexer": "ipython3",
   "version": "3.10.7"
  }
 },
 "nbformat": 4,
 "nbformat_minor": 2
}
